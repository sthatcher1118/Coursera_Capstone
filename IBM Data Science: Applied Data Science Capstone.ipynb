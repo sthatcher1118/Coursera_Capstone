{
    "cells": [
        {
            "cell_type": "markdown",
            "metadata": {
                "collapsed": true
            },
            "source": "# IBM Data Science Certification: Applied Data Science Capstone\n\nThis notebook will be used for the Applied Data Science Capstone"
        },
        {
            "cell_type": "markdown",
            "metadata": {},
            "source": "## Read Canadian Postal Codes\n\n1. Use the pandas [`read_html`](https://pandas.pydata.org/pandas-docs/stable/reference/api/pandas.read_html.html) function to read all the tables from the [List of postal codes of Canada: M](https://en.wikipedia.org/wiki/List_of_postal_codes_of_Canada:_M). The first table (i.e. data frame) in the list will be the first (index = 0) element in the list.\n\n1. After extracting the first table, get all the rows that have an *assigned* Borough (i.e. a Borough not equal to `Not assigned`).\n\n1. According to the lab, there could be a postal code listed multiple times and that the neighborhood values should be combined in a comma separated list. *However*, it appears that the table has been updated and the neighborhoods are listed with `/` as a separator. Let's check...\n\n1. Lastly, I'll just stick with the `/` separator since it seems to be a unique character in the list. I'm assuming that the `Garden District, Ryerson` entry is actually a single place and not two places. Especially since the Garden District is where Ryerson University is located. "
        },
        {
            "cell_type": "code",
            "execution_count": 98,
            "metadata": {},
            "outputs": [],
            "source": "# The code was removed by Watson Studio for sharing."
        },
        {
            "cell_type": "code",
            "execution_count": 106,
            "metadata": {},
            "outputs": [],
            "source": "%%capture\n# Get stuff installed\n!pip install geocoder\nimport pandas as pd\nimport numpy as np\nimport geocoder\n\ndef geocode_it(postal_code): \n    g = geocoder.google(f'{postal_code}, Toronto, Ontario', key=api_key)\n    return g.latlng\n"
        },
        {
            "cell_type": "code",
            "execution_count": 100,
            "metadata": {},
            "outputs": [
                {
                    "name": "stdout",
                    "output_type": "stream",
                    "text": "Checking for any postal code listed more than once: 0\n"
                }
            ],
            "source": "url = \"https://en.wikipedia.org/wiki/List_of_postal_codes_of_Canada:_M\"\ntables = pd.read_html(url)\npostal_codes_raw = tables[0]\npostal_codes_raw.head()\n\npcs = postal_codes_raw[postal_codes_raw['Borough'] != 'Not assigned'].reset_index(drop=True)\ngrps = pcs.groupby('Postal code').count()\nprint(f\"Checking for any postal code listed more than once: {len(grps[grps['Borough'] > 1])}\")\n"
        },
        {
            "cell_type": "markdown",
            "metadata": {},
            "source": "Let's take a look at the resulting data frame:"
        },
        {
            "cell_type": "code",
            "execution_count": 101,
            "metadata": {},
            "outputs": [
                {
                    "data": {
                        "text/html": "<div>\n<style scoped>\n    .dataframe tbody tr th:only-of-type {\n        vertical-align: middle;\n    }\n\n    .dataframe tbody tr th {\n        vertical-align: top;\n    }\n\n    .dataframe thead th {\n        text-align: right;\n    }\n</style>\n<table border=\"1\" class=\"dataframe\">\n  <thead>\n    <tr style=\"text-align: right;\">\n      <th></th>\n      <th>Postal code</th>\n      <th>Borough</th>\n      <th>Neighborhood</th>\n    </tr>\n  </thead>\n  <tbody>\n    <tr>\n      <th>0</th>\n      <td>M3A</td>\n      <td>North York</td>\n      <td>Parkwoods</td>\n    </tr>\n    <tr>\n      <th>1</th>\n      <td>M4A</td>\n      <td>North York</td>\n      <td>Victoria Village</td>\n    </tr>\n    <tr>\n      <th>2</th>\n      <td>M5A</td>\n      <td>Downtown Toronto</td>\n      <td>Regent Park / Harbourfront</td>\n    </tr>\n    <tr>\n      <th>3</th>\n      <td>M6A</td>\n      <td>North York</td>\n      <td>Lawrence Manor / Lawrence Heights</td>\n    </tr>\n    <tr>\n      <th>4</th>\n      <td>M7A</td>\n      <td>Downtown Toronto</td>\n      <td>Queen's Park / Ontario Provincial Government</td>\n    </tr>\n  </tbody>\n</table>\n</div>",
                        "text/plain": "  Postal code           Borough                                  Neighborhood\n0         M3A        North York                                     Parkwoods\n1         M4A        North York                              Victoria Village\n2         M5A  Downtown Toronto                    Regent Park / Harbourfront\n3         M6A        North York             Lawrence Manor / Lawrence Heights\n4         M7A  Downtown Toronto  Queen's Park / Ontario Provincial Government"
                    },
                    "execution_count": 101,
                    "metadata": {},
                    "output_type": "execute_result"
                }
            ],
            "source": "pcs.head()"
        },
        {
            "cell_type": "markdown",
            "metadata": {},
            "source": "## Number of rows"
        },
        {
            "cell_type": "code",
            "execution_count": 102,
            "metadata": {},
            "outputs": [
                {
                    "data": {
                        "text/plain": "(103, 3)"
                    },
                    "execution_count": 102,
                    "metadata": {},
                    "output_type": "execute_result"
                }
            ],
            "source": "pcs.shape"
        },
        {
            "cell_type": "markdown",
            "metadata": {},
            "source": "## GeoCode It\n\nAdd Latitude and Longitude to the dataframe. First just add the coordinates as a list (that's what google provides back). Then split those values out to latitude and longitude."
        },
        {
            "cell_type": "code",
            "execution_count": 103,
            "metadata": {},
            "outputs": [],
            "source": "pcs['LatLon'] = pcs.apply({'Postal code': lambda code: geocode_it(code)})\npcs[['lat', 'lon']] = pd.DataFrame(pcs['LatLon'].tolist(), index=pcs.index)"
        },
        {
            "cell_type": "code",
            "execution_count": 104,
            "metadata": {},
            "outputs": [
                {
                    "data": {
                        "text/html": "<div>\n<style scoped>\n    .dataframe tbody tr th:only-of-type {\n        vertical-align: middle;\n    }\n\n    .dataframe tbody tr th {\n        vertical-align: top;\n    }\n\n    .dataframe thead th {\n        text-align: right;\n    }\n</style>\n<table border=\"1\" class=\"dataframe\">\n  <thead>\n    <tr style=\"text-align: right;\">\n      <th></th>\n      <th>Postal code</th>\n      <th>Borough</th>\n      <th>Neighborhood</th>\n      <th>LatLon</th>\n      <th>lat</th>\n      <th>lon</th>\n    </tr>\n  </thead>\n  <tbody>\n    <tr>\n      <th>0</th>\n      <td>M3A</td>\n      <td>North York</td>\n      <td>Parkwoods</td>\n      <td>[43.7532586, -79.3296565]</td>\n      <td>43.753259</td>\n      <td>-79.329656</td>\n    </tr>\n    <tr>\n      <th>1</th>\n      <td>M4A</td>\n      <td>North York</td>\n      <td>Victoria Village</td>\n      <td>[43.72588229999999, -79.3155716]</td>\n      <td>43.725882</td>\n      <td>-79.315572</td>\n    </tr>\n    <tr>\n      <th>2</th>\n      <td>M5A</td>\n      <td>Downtown Toronto</td>\n      <td>Regent Park / Harbourfront</td>\n      <td>[43.6542599, -79.36063589999999]</td>\n      <td>43.654260</td>\n      <td>-79.360636</td>\n    </tr>\n    <tr>\n      <th>3</th>\n      <td>M6A</td>\n      <td>North York</td>\n      <td>Lawrence Manor / Lawrence Heights</td>\n      <td>[43.718518, -79.4647633]</td>\n      <td>43.718518</td>\n      <td>-79.464763</td>\n    </tr>\n    <tr>\n      <th>4</th>\n      <td>M7A</td>\n      <td>Downtown Toronto</td>\n      <td>Queen's Park / Ontario Provincial Government</td>\n      <td>[43.6623015, -79.3894938]</td>\n      <td>43.662301</td>\n      <td>-79.389494</td>\n    </tr>\n    <tr>\n      <th>5</th>\n      <td>M9A</td>\n      <td>Etobicoke</td>\n      <td>Islington Avenue</td>\n      <td>[43.6678556, -79.5322424]</td>\n      <td>43.667856</td>\n      <td>-79.532242</td>\n    </tr>\n    <tr>\n      <th>6</th>\n      <td>M1B</td>\n      <td>Scarborough</td>\n      <td>Malvern / Rouge</td>\n      <td>[43.8066863, -79.1943534]</td>\n      <td>43.806686</td>\n      <td>-79.194353</td>\n    </tr>\n    <tr>\n      <th>7</th>\n      <td>M3B</td>\n      <td>North York</td>\n      <td>Don Mills</td>\n      <td>[43.7459058, -79.352188]</td>\n      <td>43.745906</td>\n      <td>-79.352188</td>\n    </tr>\n    <tr>\n      <th>8</th>\n      <td>M4B</td>\n      <td>East York</td>\n      <td>Parkview Hill / Woodbine Gardens</td>\n      <td>[43.7063972, -79.30993699999999]</td>\n      <td>43.706397</td>\n      <td>-79.309937</td>\n    </tr>\n    <tr>\n      <th>9</th>\n      <td>M5B</td>\n      <td>Downtown Toronto</td>\n      <td>Garden District, Ryerson</td>\n      <td>[43.6571618, -79.3789371]</td>\n      <td>43.657162</td>\n      <td>-79.378937</td>\n    </tr>\n  </tbody>\n</table>\n</div>",
                        "text/plain": "  Postal code           Borough                                  Neighborhood  \\\n0         M3A        North York                                     Parkwoods   \n1         M4A        North York                              Victoria Village   \n2         M5A  Downtown Toronto                    Regent Park / Harbourfront   \n3         M6A        North York             Lawrence Manor / Lawrence Heights   \n4         M7A  Downtown Toronto  Queen's Park / Ontario Provincial Government   \n5         M9A         Etobicoke                              Islington Avenue   \n6         M1B       Scarborough                               Malvern / Rouge   \n7         M3B        North York                                     Don Mills   \n8         M4B         East York              Parkview Hill / Woodbine Gardens   \n9         M5B  Downtown Toronto                      Garden District, Ryerson   \n\n                             LatLon        lat        lon  \n0         [43.7532586, -79.3296565]  43.753259 -79.329656  \n1  [43.72588229999999, -79.3155716]  43.725882 -79.315572  \n2  [43.6542599, -79.36063589999999]  43.654260 -79.360636  \n3          [43.718518, -79.4647633]  43.718518 -79.464763  \n4         [43.6623015, -79.3894938]  43.662301 -79.389494  \n5         [43.6678556, -79.5322424]  43.667856 -79.532242  \n6         [43.8066863, -79.1943534]  43.806686 -79.194353  \n7          [43.7459058, -79.352188]  43.745906 -79.352188  \n8  [43.7063972, -79.30993699999999]  43.706397 -79.309937  \n9         [43.6571618, -79.3789371]  43.657162 -79.378937  "
                    },
                    "execution_count": 104,
                    "metadata": {},
                    "output_type": "execute_result"
                }
            ],
            "source": "pcs.head(10)"
        }
    ],
    "metadata": {
        "kernelspec": {
            "display_name": "Python 3.6",
            "language": "python",
            "name": "python3"
        },
        "language_info": {
            "codemirror_mode": {
                "name": "ipython",
                "version": 3
            },
            "file_extension": ".py",
            "mimetype": "text/x-python",
            "name": "python",
            "nbconvert_exporter": "python",
            "pygments_lexer": "ipython3",
            "version": "3.6.9"
        }
    },
    "nbformat": 4,
    "nbformat_minor": 1
}