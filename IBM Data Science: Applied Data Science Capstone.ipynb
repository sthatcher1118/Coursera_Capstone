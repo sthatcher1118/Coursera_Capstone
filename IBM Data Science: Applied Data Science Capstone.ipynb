{
    "cells": [
        {
            "cell_type": "markdown",
            "metadata": {
                "collapsed": true
            },
            "source": "# IBM Data Science Certification: Applied Data Science Capstone\n\nThis notebook will be used for the Applied Data Science Capstone"
        },
        {
            "cell_type": "code",
            "execution_count": 86,
            "metadata": {},
            "outputs": [],
            "source": "import pandas as pd\nimport numpy as np\n"
        },
        {
            "cell_type": "markdown",
            "metadata": {},
            "source": "## Read Canadian Postal Codes\n\n1. Use the pandas [`read_html`](https://pandas.pydata.org/pandas-docs/stable/reference/api/pandas.read_html.html) function to read all the tables from the [List of postal codes of Canada: M](https://en.wikipedia.org/wiki/List_of_postal_codes_of_Canada:_M). The first table (i.e. data frame) in the list will be the first (index = 0) element in the list.\n\n1. After extracting the first table, get all the rows that have an *assigned* Borough (i.e. a Borough not equal to `Not assigned`).\n\n1. According to the lab, there could be a postal code listed multiple times and that the neighborhood values should be combined in a comma separated list. *However*, it appears that the table has been updated and the neighborhoods are listed with `/` as a separator. Let's check...\n\n1. Lastly, I'll just stick with the `/` separator since it seems to be a unique character in the list. I'm assuming that the `Garden District, Ryerson` entry is actually a single place and not two places. Especially since the Garden District is where Ryerson University is located. "
        },
        {
            "cell_type": "code",
            "execution_count": 87,
            "metadata": {},
            "outputs": [
                {
                    "name": "stdout",
                    "output_type": "stream",
                    "text": "Checking for any postal code listed more than once: 0\n"
                }
            ],
            "source": "url = \"https://en.wikipedia.org/wiki/List_of_postal_codes_of_Canada:_M\"\ntables = pd.read_html(url)\npostal_codes_raw = tables[0]\npostal_codes_raw.head()\n\npcs = postal_codes_raw[postal_codes_raw['Borough'] != 'Not assigned'].reset_index(drop=True)\ngrps = pcs.groupby('Postal code').count()\nprint(f\"Checking for any postal code listed more than once: {len(grps[grps['Borough'] > 1])}\")"
        },
        {
            "cell_type": "markdown",
            "metadata": {},
            "source": "## Number of rows"
        },
        {
            "cell_type": "code",
            "execution_count": 89,
            "metadata": {},
            "outputs": [
                {
                    "data": {
                        "text/plain": "(103, 3)"
                    },
                    "execution_count": 89,
                    "metadata": {},
                    "output_type": "execute_result"
                }
            ],
            "source": "pcs.shape"
        }
    ],
    "metadata": {
        "kernelspec": {
            "display_name": "Python 3.6",
            "language": "python",
            "name": "python3"
        },
        "language_info": {
            "codemirror_mode": {
                "name": "ipython",
                "version": 3
            },
            "file_extension": ".py",
            "mimetype": "text/x-python",
            "name": "python",
            "nbconvert_exporter": "python",
            "pygments_lexer": "ipython3",
            "version": "3.6.9"
        }
    },
    "nbformat": 4,
    "nbformat_minor": 1
}